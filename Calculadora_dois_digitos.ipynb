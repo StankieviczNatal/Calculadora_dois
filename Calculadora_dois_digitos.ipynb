{
 "cells": [
  {
   "cell_type": "code",
   "execution_count": 1,
   "id": "b60f8489",
   "metadata": {},
   "outputs": [],
   "source": [
    "class CalculadoraDoisDigitos:\n",
    "    def __init__(self):\n",
    "        # Criando um dicionario 1 é a chave  e os valores são a (função self.soma) e a (string \"\"+\"\")\n",
    "        self.operacoes = {\n",
    "            '1': (self.soma, '+'),\n",
    "            '2': (self.subtrai, '-'),\n",
    "            '3': (self.multiplica, '*'),\n",
    "            '4': (self.divide, '/')\n",
    "        }\n",
    "        \n",
    "    # Object Literal serve para evitar if e elif\n",
    "    def soma(self, x, y):\n",
    "        return x + y\n",
    "    \n",
    "    def subtrai(self, x, y):\n",
    "        return x - y\n",
    "    \n",
    "    def multiplica(self, x, y):\n",
    "        return x * y\n",
    "    \n",
    "    # Como divisão de 0  quebra o programa é preciso criar um tratamento de erro\n",
    "    def divide(self, x, y):\n",
    "        try:\n",
    "            return x / y\n",
    "        except ZeroDivisionError:\n",
    "            print('-----------------------------------------------\\n')\n",
    "            print('ERRO!! Divisão por zero.')\n",
    "            return None\n",
    "        \n",
    "    # Função para perguntar para o usuário qual operação\n",
    "    def obter_op(self):\n",
    "        pergunta = (\n",
    "            '------------------------------------------\\n'\n",
    "            'Você gostaria de realizar qual operação?\\n'\n",
    "            'Digite \"1\" para somar\\n'\n",
    "            'Digite \"2\" para subtrair\\n'\n",
    "            'Digite \"3\" para multiplicar\\n'\n",
    "            'Digite \"4\" para dividir\\n'\n",
    "            'Digite o NÚMERO da operação que você deseja: '\n",
    "        )\n",
    "        # Validando caso o usuário aperte um tecla diferente de 1 2 3 4\n",
    "        validacao = self.operacoes.keys()\n",
    "        # Loop para caso o usuário pressionar errado ele possa tentar novamente\n",
    "        while True:      \n",
    "            operacao = input(pergunta).strip()\n",
    "            if operacao in validacao:\n",
    "                return operacao\n",
    "            print('ERRO! Digite um número válido.')\n",
    "            \n",
    "    # função perguntar,calcular e imprimir o resultado na tela. \n",
    "    def calcular(self):\n",
    "        while True:\n",
    "            try:\n",
    "                print('------------------------------------------\\n')\n",
    "                a = int(input('Digite o primeiro número: ').strip())\n",
    "                b = int(input('Digite o segundo número: ').strip())\n",
    "                break\n",
    "            except ValueError:\n",
    "                print('Digite um valor válido.')\n",
    "        # operacao recebe a resposta do self.obter_op\n",
    "        operacao = self.obter_op()\n",
    "        \"\"\"func é uma variavel que recebe a função (no caso a operações aritmética, soma, sub e etc..) \n",
    "        e o operador recebe a string (\"+\", \"-\", etc...)\"\"\"\n",
    "        func, operador = self.operacoes[operacao]\n",
    "        # Aqui eu uso o func\n",
    "        resultado = func(a, b)\n",
    "        if resultado is not None:\n",
    "            print('-----------------------------------------------\\n')\n",
    "            print(f'O resultado de {a} {operador} {b} = {resultado}')\n",
    "            print('-----------------------------------------------')\n",
    "\n"
   ]
  },
  {
   "cell_type": "code",
   "execution_count": 2,
   "id": "4eacb1f7",
   "metadata": {},
   "outputs": [
    {
     "name": "stdout",
     "output_type": "stream",
     "text": [
      "------------------------------------------\n",
      "\n",
      "Digite o primeiro número: 4\n",
      "Digite o segundo número: 0\n",
      "------------------------------------------\n",
      "Você gostaria de realizar qual operação?\n",
      "Digite \"1\" para somar\n",
      "Digite \"2\" para subtrair\n",
      "Digite \"3\" para multiplicar\n",
      "Digite \"4\" para dividir\n",
      "Digite o NÚMERO da operação que você deseja: 4\n",
      "-----------------------------------------------\n",
      "\n",
      "ERRO!! Divisão por zero.\n"
     ]
    }
   ],
   "source": [
    "# Programa CalculadoraDoisDigitos\n",
    "calc = CalculadoraDoisDigitos()\n",
    "calc.calcular()\n"
   ]
  },
  {
   "cell_type": "code",
   "execution_count": null,
   "id": "45a23677",
   "metadata": {},
   "outputs": [],
   "source": []
  }
 ],
 "metadata": {
  "kernelspec": {
   "display_name": "Python 3 (ipykernel)",
   "language": "python",
   "name": "python3"
  },
  "language_info": {
   "codemirror_mode": {
    "name": "ipython",
    "version": 3
   },
   "file_extension": ".py",
   "mimetype": "text/x-python",
   "name": "python",
   "nbconvert_exporter": "python",
   "pygments_lexer": "ipython3",
   "version": "3.9.13"
  }
 },
 "nbformat": 4,
 "nbformat_minor": 5
}
